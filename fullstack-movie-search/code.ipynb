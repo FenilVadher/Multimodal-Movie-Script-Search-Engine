{
 "cells": [
  {
   "cell_type": "code",
   "execution_count": 1,
   "id": "28727078",
   "metadata": {},
   "outputs": [
    {
     "name": "stdout",
     "output_type": "stream",
     "text": [
      "✅ movie_dataset.json created with 50 movies × 5 scenes each\n"
     ]
    }
   ],
   "source": [
    "import json\n",
    "import random\n",
    "\n",
    "# Movie and character pools (mix of Hollywood & Bollywood style names)\n",
    "movie_titles = [\n",
    "    \"Inception\", \"The Dark Knight\", \"Interstellar\", \"Titanic\", \"Avengers\",\n",
    "    \"3 Idiots\", \"Dilwale Dulhania Le Jayenge\", \"Sholay\", \"PK\", \"Zindagi Na Milegi Dobara\",\n",
    "    \"The Matrix\", \"Gladiator\", \"Jurassic Park\", \"Harry Potter\", \"The Lord of the Rings\",\n",
    "    \"Lagaan\", \"Chak De India\", \"Barfi\", \"Dangal\", \"Gully Boy\",\n",
    "    \"Iron Man\", \"Captain America\", \"Thor\", \"Doctor Strange\", \"Black Panther\",\n",
    "    \"Kuch Kuch Hota Hai\", \"Kabhi Khushi Kabhi Gham\", \"Kal Ho Naa Ho\", \"Bajrangi Bhaijaan\", \"Pathaan\",\n",
    "    \"The Lion King\", \"Frozen\", \"Toy Story\", \"Finding Nemo\", \"Up\",\n",
    "    \"Bahubali\", \"RRR\", \"KGF\", \"Pushpa\", \"Jawan\",\n",
    "    \"Forrest Gump\", \"Shawshank Redemption\", \"Fight Club\", \"The Godfather\", \"Goodfellas\",\n",
    "    \"Andaz Apna Apna\", \"Don\", \"Kabir Singh\", \"War\", \"Sanju\"\n",
    "]\n",
    "\n",
    "characters = [\"Raj\", \"Simran\", \"Amit\", \"Cobb\", \"Ariadne\", \"Joker\", \"Batman\", \"Rancho\", \"Farhan\", \"Raju\"]\n",
    "\n",
    "# Generate dataset\n",
    "dataset = {\"dataset_name\": \"Custom Multimodal Movie Dataset\", \"movies\": []}\n",
    "\n",
    "for i, title in enumerate(movie_titles[:50], start=1):\n",
    "    movie = {\n",
    "        \"movie_id\": f\"M{i:03d}\",\n",
    "        \"movie_title\": title,\n",
    "        \"year\": random.choice(range(1990, 2025)),\n",
    "        \"language\": random.choice([\"English\", \"Hindi\"]),\n",
    "        \"scenes\": []\n",
    "    }\n",
    "\n",
    "    for s in range(1, 6):  # 5 scenes per movie\n",
    "        scene = {\n",
    "            \"scene_id\": f\"S{s:03d}\",\n",
    "            \"scene_description\": f\"Description of scene {s} from {title}.\",\n",
    "            \"dialogues\": [\n",
    "                {\"character\": random.choice(characters), \"text\": f\"Dialogue line {j+1} from scene {s} in {title}.\"}\n",
    "                for j in range(random.randint(2, 4))  # 2–4 dialogues per scene\n",
    "            ],\n",
    "            \"scene_image\": f\"images/{title.replace(' ', '_').lower()}_scene{s}.jpg\"\n",
    "        }\n",
    "        movie[\"scenes\"].append(scene)\n",
    "\n",
    "    dataset[\"movies\"].append(movie)\n",
    "\n",
    "# Save JSON file\n",
    "with open(\"movie_dataset.json\", \"w\", encoding=\"utf-8\") as f:\n",
    "    json.dump(dataset, f, indent=2, ensure_ascii=False)\n",
    "\n",
    "print(\"✅ movie_dataset.json created with 50 movies × 5 scenes each\")\n"
   ]
  },
  {
   "cell_type": "code",
   "execution_count": null,
   "id": "19fe9f34",
   "metadata": {},
   "outputs": [],
   "source": []
  }
 ],
 "metadata": {
  "kernelspec": {
   "display_name": "Python 3",
   "language": "python",
   "name": "python3"
  },
  "language_info": {
   "codemirror_mode": {
    "name": "ipython",
    "version": 3
   },
   "file_extension": ".py",
   "mimetype": "text/x-python",
   "name": "python",
   "nbconvert_exporter": "python",
   "pygments_lexer": "ipython3",
   "version": "3.11.8"
  }
 },
 "nbformat": 4,
 "nbformat_minor": 5
}
